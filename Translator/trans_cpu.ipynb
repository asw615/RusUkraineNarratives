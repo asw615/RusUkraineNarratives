{
 "cells": [
  {
   "cell_type": "code",
   "execution_count": 3,
   "metadata": {},
   "outputs": [
    {
     "name": "stderr",
     "output_type": "stream",
     "text": [
      "  0%|          | 0/33845 [00:00<?, ?it/s]"
     ]
    },
    {
     "name": "stdout",
     "output_type": "stream",
     "text": [
      "Had an exception error, but saved the file anyway\n"
     ]
    },
    {
     "name": "stderr",
     "output_type": "stream",
     "text": [
      "  3%|▎         | 1000/33845 [03:38<1:35:27,  5.73it/s]"
     ]
    },
    {
     "name": "stdout",
     "output_type": "stream",
     "text": [
      "Had an exception error, but saved the file anyway\n"
     ]
    },
    {
     "name": "stderr",
     "output_type": "stream",
     "text": [
      "  6%|▌         | 2000/33845 [07:09<1:32:13,  5.75it/s] "
     ]
    },
    {
     "name": "stdout",
     "output_type": "stream",
     "text": [
      "Had an exception error, but saved the file anyway\n"
     ]
    },
    {
     "name": "stderr",
     "output_type": "stream",
     "text": [
      "  9%|▉         | 3000/33845 [10:41<1:23:16,  6.17it/s] "
     ]
    },
    {
     "name": "stdout",
     "output_type": "stream",
     "text": [
      "Had an exception error, but saved the file anyway\n"
     ]
    },
    {
     "name": "stderr",
     "output_type": "stream",
     "text": [
      " 12%|█▏        | 4000/33845 [14:16<2:07:16,  3.91it/s] "
     ]
    },
    {
     "name": "stdout",
     "output_type": "stream",
     "text": [
      "Had an exception error, but saved the file anyway\n"
     ]
    },
    {
     "name": "stderr",
     "output_type": "stream",
     "text": [
      " 15%|█▍        | 5000/33845 [17:55<3:05:02,  2.60it/s] "
     ]
    },
    {
     "name": "stdout",
     "output_type": "stream",
     "text": [
      "Had an exception error, but saved the file anyway\n"
     ]
    },
    {
     "name": "stderr",
     "output_type": "stream",
     "text": [
      " 18%|█▊        | 6000/33845 [21:45<1:31:55,  5.05it/s] "
     ]
    },
    {
     "name": "stdout",
     "output_type": "stream",
     "text": [
      "Had an exception error, but saved the file anyway\n"
     ]
    },
    {
     "name": "stderr",
     "output_type": "stream",
     "text": [
      " 21%|██        | 7000/33845 [25:27<1:23:04,  5.39it/s] "
     ]
    },
    {
     "name": "stdout",
     "output_type": "stream",
     "text": [
      "Had an exception error, but saved the file anyway\n"
     ]
    },
    {
     "name": "stderr",
     "output_type": "stream",
     "text": [
      " 24%|██▎       | 8000/33845 [29:15<1:25:24,  5.04it/s] "
     ]
    },
    {
     "name": "stdout",
     "output_type": "stream",
     "text": [
      "Had an exception error, but saved the file anyway\n"
     ]
    },
    {
     "name": "stderr",
     "output_type": "stream",
     "text": [
      " 27%|██▋       | 9000/33845 [32:58<1:46:44,  3.88it/s] "
     ]
    },
    {
     "name": "stdout",
     "output_type": "stream",
     "text": [
      "Had an exception error, but saved the file anyway\n"
     ]
    },
    {
     "name": "stderr",
     "output_type": "stream",
     "text": [
      " 30%|██▉       | 10000/33845 [36:36<1:14:32,  5.33it/s]"
     ]
    },
    {
     "name": "stdout",
     "output_type": "stream",
     "text": [
      "Had an exception error, but saved the file anyway\n"
     ]
    },
    {
     "name": "stderr",
     "output_type": "stream",
     "text": [
      " 33%|███▎      | 11000/33845 [40:08<1:11:00,  5.36it/s] "
     ]
    },
    {
     "name": "stdout",
     "output_type": "stream",
     "text": [
      "Had an exception error, but saved the file anyway\n"
     ]
    },
    {
     "name": "stderr",
     "output_type": "stream",
     "text": [
      " 35%|███▌      | 12000/33845 [45:49<2:08:40,  2.83it/s] "
     ]
    },
    {
     "name": "stdout",
     "output_type": "stream",
     "text": [
      "Had an exception error, but saved the file anyway\n"
     ]
    },
    {
     "name": "stderr",
     "output_type": "stream",
     "text": [
      " 38%|███▊      | 13000/33845 [51:31<1:40:29,  3.46it/s] "
     ]
    },
    {
     "name": "stdout",
     "output_type": "stream",
     "text": [
      "Had an exception error, but saved the file anyway\n"
     ]
    },
    {
     "name": "stderr",
     "output_type": "stream",
     "text": [
      " 41%|████▏     | 14000/33845 [57:19<1:54:24,  2.89it/s] "
     ]
    },
    {
     "name": "stdout",
     "output_type": "stream",
     "text": [
      "Had an exception error, but saved the file anyway\n"
     ]
    },
    {
     "name": "stderr",
     "output_type": "stream",
     "text": [
      " 43%|████▎     | 14588/33845 [1:00:43<1:26:40,  3.70it/s]"
     ]
    },
    {
     "name": "stdout",
     "output_type": "stream",
     "text": [
      "Had an exception error, but saved the file anyway\n"
     ]
    },
    {
     "name": "stderr",
     "output_type": "stream",
     "text": [
      " 44%|████▍     | 15000/33845 [1:03:21<1:15:03,  4.18it/s] "
     ]
    },
    {
     "name": "stdout",
     "output_type": "stream",
     "text": [
      "Had an exception error, but saved the file anyway\n"
     ]
    },
    {
     "name": "stderr",
     "output_type": "stream",
     "text": [
      " 47%|████▋     | 16000/33845 [1:08:52<1:34:59,  3.13it/s] "
     ]
    },
    {
     "name": "stdout",
     "output_type": "stream",
     "text": [
      "Had an exception error, but saved the file anyway\n"
     ]
    },
    {
     "name": "stderr",
     "output_type": "stream",
     "text": [
      " 50%|█████     | 17000/33845 [1:14:21<1:32:41,  3.03it/s] "
     ]
    },
    {
     "name": "stdout",
     "output_type": "stream",
     "text": [
      "Had an exception error, but saved the file anyway\n"
     ]
    },
    {
     "name": "stderr",
     "output_type": "stream",
     "text": [
      " 53%|█████▎    | 18000/33845 [1:19:41<1:36:06,  2.75it/s] "
     ]
    },
    {
     "name": "stdout",
     "output_type": "stream",
     "text": [
      "Had an exception error, but saved the file anyway\n"
     ]
    },
    {
     "name": "stderr",
     "output_type": "stream",
     "text": [
      " 56%|█████▌    | 19000/33845 [1:25:09<1:20:47,  3.06it/s] "
     ]
    },
    {
     "name": "stdout",
     "output_type": "stream",
     "text": [
      "Had an exception error, but saved the file anyway\n"
     ]
    },
    {
     "name": "stderr",
     "output_type": "stream",
     "text": [
      " 59%|█████▉    | 20000/33845 [1:30:38<1:10:02,  3.29it/s] "
     ]
    },
    {
     "name": "stdout",
     "output_type": "stream",
     "text": [
      "Had an exception error, but saved the file anyway\n"
     ]
    },
    {
     "name": "stderr",
     "output_type": "stream",
     "text": [
      " 62%|██████▏   | 21000/33845 [1:36:28<1:06:06,  3.24it/s] "
     ]
    },
    {
     "name": "stdout",
     "output_type": "stream",
     "text": [
      "Had an exception error, but saved the file anyway\n"
     ]
    },
    {
     "name": "stderr",
     "output_type": "stream",
     "text": [
      " 65%|██████▌   | 22000/33845 [1:41:56<1:05:16,  3.02it/s] "
     ]
    },
    {
     "name": "stdout",
     "output_type": "stream",
     "text": [
      "Had an exception error, but saved the file anyway\n"
     ]
    },
    {
     "name": "stderr",
     "output_type": "stream",
     "text": [
      " 68%|██████▊   | 23000/33845 [1:47:14<51:30,  3.51it/s]   "
     ]
    },
    {
     "name": "stdout",
     "output_type": "stream",
     "text": [
      "Had an exception error, but saved the file anyway\n"
     ]
    },
    {
     "name": "stderr",
     "output_type": "stream",
     "text": [
      " 71%|███████   | 24000/33845 [1:53:02<47:25,  3.46it/s]   "
     ]
    },
    {
     "name": "stdout",
     "output_type": "stream",
     "text": [
      "Had an exception error, but saved the file anyway\n"
     ]
    },
    {
     "name": "stderr",
     "output_type": "stream",
     "text": [
      " 74%|███████▍  | 25000/33845 [1:58:52<46:34,  3.16it/s]   "
     ]
    },
    {
     "name": "stdout",
     "output_type": "stream",
     "text": [
      "Had an exception error, but saved the file anyway\n"
     ]
    },
    {
     "name": "stderr",
     "output_type": "stream",
     "text": [
      " 77%|███████▋  | 26000/33845 [2:04:27<35:03,  3.73it/s]   "
     ]
    },
    {
     "name": "stdout",
     "output_type": "stream",
     "text": [
      "Had an exception error, but saved the file anyway\n"
     ]
    },
    {
     "name": "stderr",
     "output_type": "stream",
     "text": [
      " 80%|███████▉  | 27000/33845 [2:10:07<32:00,  3.56it/s]   "
     ]
    },
    {
     "name": "stdout",
     "output_type": "stream",
     "text": [
      "Had an exception error, but saved the file anyway\n"
     ]
    },
    {
     "name": "stderr",
     "output_type": "stream",
     "text": [
      " 83%|████████▎ | 28000/33845 [2:15:26<1:02:42,  1.55it/s] "
     ]
    },
    {
     "name": "stdout",
     "output_type": "stream",
     "text": [
      "Had an exception error, but saved the file anyway\n"
     ]
    },
    {
     "name": "stderr",
     "output_type": "stream",
     "text": [
      " 86%|████████▌ | 29000/33845 [2:24:30<58:29,  1.38it/s]   "
     ]
    },
    {
     "name": "stdout",
     "output_type": "stream",
     "text": [
      "Had an exception error, but saved the file anyway\n"
     ]
    },
    {
     "name": "stderr",
     "output_type": "stream",
     "text": [
      " 89%|████████▊ | 30000/33845 [2:32:40<21:33,  2.97it/s]   "
     ]
    },
    {
     "name": "stdout",
     "output_type": "stream",
     "text": [
      "Had an exception error, but saved the file anyway\n"
     ]
    },
    {
     "name": "stderr",
     "output_type": "stream",
     "text": [
      " 92%|█████████▏| 31000/33845 [2:38:02<14:06,  3.36it/s]   "
     ]
    },
    {
     "name": "stdout",
     "output_type": "stream",
     "text": [
      "Had an exception error, but saved the file anyway\n"
     ]
    },
    {
     "name": "stderr",
     "output_type": "stream",
     "text": [
      " 95%|█████████▍| 32000/33845 [2:43:13<08:36,  3.57it/s]  "
     ]
    },
    {
     "name": "stdout",
     "output_type": "stream",
     "text": [
      "Had an exception error, but saved the file anyway\n"
     ]
    },
    {
     "name": "stderr",
     "output_type": "stream",
     "text": [
      " 98%|█████████▊| 33000/33845 [2:49:02<04:42,  2.99it/s]  "
     ]
    },
    {
     "name": "stdout",
     "output_type": "stream",
     "text": [
      "Had an exception error, but saved the file anyway\n"
     ]
    },
    {
     "name": "stderr",
     "output_type": "stream",
     "text": [
      "100%|██████████| 33845/33845 [2:53:55<00:00,  3.24it/s]  \n"
     ]
    }
   ],
   "source": [
    "# Import the necessary packages\n",
    "from concurrent.futures import ThreadPoolExecutor\n",
    "import time\n",
    "from googletrans import Translator\n",
    "import pandas as pd\n",
    "from tqdm import tqdm\n",
    "\n",
    "# Set the maximum number of threads to use\n",
    "MAX_THREADS = 8\n",
    "\n",
    "# Initialize the translator and the ThreadPoolExecutor\n",
    "translator = Translator()\n",
    "executor = ThreadPoolExecutor(max_workers=MAX_THREADS)\n",
    "\n",
    "# Read the DataFrame from the CSV file\n",
    "df = pd.read_csv('/Users/sorenmeiner/Library/CloudStorage/OneDrive-Aarhusuniversitet/CogComm exam/telegram-analysis-master/csv_data/df_ukraine_left.csv')\n",
    "\n",
    "# Drop rows with empty or null values in the 'message' column\n",
    "df = df.dropna(subset=['message'])\n",
    "\n",
    "# Create a new column called 'english'\n",
    "df['english'] = \"\"\n",
    "\n",
    "# Define a function that translates a message using the Translator\n",
    "def translate_message(message):\n",
    "    # Translate the message\n",
    "    translation = translator.translate(message, dest='en')\n",
    "    return translation.text\n",
    "\n",
    "def save_new_rows(df, filename):\n",
    "    # Get the number of rows in the DataFrame before appending the new rows\n",
    "    num_rows = df.shape[0]\n",
    "\n",
    "    # Append the new rows to the DataFrame\n",
    "    df = df.append(new_rows)\n",
    "\n",
    "    # Get the number of rows in the DataFrame after appending the new rows\n",
    "    new_rows = df.shape[0] - num_rows\n",
    "\n",
    "    # Save only the new rows to the CSV file\n",
    "    df.iloc[-new_rows:].to_csv(filename, mode='a', header=False)\n",
    "\n",
    "# Use tqdm to display a progress bar while applying the translation function\n",
    "for i, message in tqdm(enumerate(df['message']), total=len(df['message'])):\n",
    "    try:\n",
    "        # Translate the message\n",
    "        translation = executor.submit(translate_message, message)\n",
    "        # Add the translated text to the 'english' column\n",
    "        df.loc[i, 'english'] = translation.result()\n",
    "\n",
    "        # Check if the current index is a multiple of 1000\n",
    "        if i % 1000 == 0:\n",
    "    # Save only the new rows to the CSV file\n",
    "            save_new_rows(df, '/Users/sorenmeiner/Library/CloudStorage/OneDrive-Aarhusuniversitet/CogComm exam/telegram-analysis-master/csv_data/df_ukraine_translate02.csv')\n",
    "    \n",
    "    except:\n",
    "        # Handle any exceptions that are thrown, such as a loss of internet connection\n",
    "        # Save the DataFrame to a CSV file\n",
    "        \n",
    "        print(\"Had an exception error, but saved the file anyway\")\n",
    "        df.to_csv('/Users/sorenmeiner/Library/CloudStorage/OneDrive-Aarhusuniversitet/CogComm exam/telegram-analysis-master/csv_data/df_ukraine_translate02.csv')\n",
    "\n",
    "        # Sleep for 30 seconds before retrying the translation\n",
    "        time.sleep(30)\n",
    "\n",
    "        # Retry the translation\n",
    "        translation = executor.submit(translate_message, message)\n",
    "        # Add the translated text to the 'english' column\n",
    "        df.loc[i, 'english'] = translation.result()\n",
    "df.to_csv('/Users/sorenmeiner/Library/CloudStorage/OneDrive-Aarhusuniversitet/CogComm exam/telegram-analysis-master/csv_data/df_translate02.csv')"
   ]
  },
  {
   "cell_type": "code",
   "execution_count": 1,
   "metadata": {},
   "outputs": [],
   "source": [
    "import pandas as pd\n",
    "df1 = pd.read_csv('/Users/sorenmeiner/Library/CloudStorage/OneDrive-Aarhusuniversitet/CogComm exam/webscraper/csv_data/tass_dates_formatted.csv')\n",
    "df2 = pd.read_csv('/Users/sorenmeiner/Library/CloudStorage/OneDrive-Aarhusuniversitet/CogComm exam/webscraper/csv_data/tass_w_date.csv')\n",
    "df3 = pd.read_csv('/Users/sorenmeiner/Library/CloudStorage/OneDrive-Aarhusuniversitet/CogComm exam/webscraper/csv_data/russia_wo_tass.csv')\n",
    "\n",
    "df_final = pd.concat([df1, df2, df3], axis=0)\n",
    "df_final.to_csv(('/Users/sorenmeiner/Library/CloudStorage/OneDrive-Aarhusuniversitet/CogComm exam/webscraper/csv_data/df_russia.csv'))"
   ]
  },
  {
   "cell_type": "code",
   "execution_count": null,
   "metadata": {},
   "outputs": [],
   "source": [
    "import pandas as pd\n",
    "\n",
    "# Load the data into a DataFrame\n",
    "df = pd.read_csv('/Users/sorenmeiner/Library/CloudStorage/OneDrive-Aarhusuniversitet/CogComm exam/webscraper/csv_data/df_russia.csv')\n",
    "\n",
    "# Select rows where the 'Name' column contains the word 'John'\n",
    "filtered_df = df[df['filename'].str.contains('sputniknews.com')]\n",
    "\n",
    "# save dataframe to csv\n",
    "filtered_df.to_csv('/Users/sorenmeiner/Library/CloudStorage/OneDrive-Aarhusuniversitet/CogComm exam/webscraper/csv_data/df_russia_!sputniknews.csv')\n"
   ]
  },
  {
   "cell_type": "code",
   "execution_count": null,
   "metadata": {},
   "outputs": [],
   "source": []
  }
 ],
 "metadata": {
  "kernelspec": {
   "display_name": "Python 3.9.12",
   "language": "python",
   "name": "python3"
  },
  "language_info": {
   "codemirror_mode": {
    "name": "ipython",
    "version": 3
   },
   "file_extension": ".py",
   "mimetype": "text/x-python",
   "name": "python",
   "nbconvert_exporter": "python",
   "pygments_lexer": "ipython3",
   "version": "3.9.12"
  },
  "orig_nbformat": 4,
  "vscode": {
   "interpreter": {
    "hash": "ca3990ce2e3203649d8bbeee3e9dfebe840efc6258ed2783ae531495843646ca"
   }
  }
 },
 "nbformat": 4,
 "nbformat_minor": 2
}
